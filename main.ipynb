{
 "cells": [
  {
   "cell_type": "code",
   "execution_count": 1,
   "metadata": {},
   "outputs": [
    {
     "name": "stdout",
     "output_type": "stream",
     "text": [
      "Collecting discord.py\n",
      "  Downloading discord.py-1.7.3-py3-none-any.whl (786 kB)\n",
      "\u001b[2K     \u001b[38;2;114;156;31m━━━━━━━━━━━━━━━━━━━━━━━━━━━━━━━━━━━━━\u001b[0m \u001b[32m786.7/786.7 kB\u001b[0m \u001b[31m373.4 kB/s\u001b[0m eta \u001b[36m0:00:00\u001b[0mm eta \u001b[36m0:00:01\u001b[0m[36m0:00:01\u001b[0m\n",
      "\u001b[?25hCollecting aiohttp<3.8.0,>=3.6.0\n",
      "  Downloading aiohttp-3.7.4.post0-cp37-cp37m-manylinux2014_x86_64.whl (1.3 MB)\n",
      "\u001b[2K     \u001b[38;2;114;156;31m━━━━━━━━━━━━━━━━━━━━━━━━━━━━━━━━━━━━━━━━\u001b[0m \u001b[32m1.3/1.3 MB\u001b[0m \u001b[31m174.4 kB/s\u001b[0m eta \u001b[36m0:00:00\u001b[0m[36m0:00:01\u001b[0mm eta \u001b[36m0:00:01\u001b[0m\n",
      "\u001b[?25hRequirement already satisfied: attrs>=17.3.0 in /home/shaheer/miniconda3/envs/pytorch/lib/python3.7/site-packages (from aiohttp<3.8.0,>=3.6.0->discord.py) (22.2.0)\n",
      "Collecting async-timeout<4.0,>=3.0\n",
      "  Downloading async_timeout-3.0.1-py3-none-any.whl (8.2 kB)\n",
      "Collecting yarl<2.0,>=1.0\n",
      "  Downloading yarl-1.9.2-cp37-cp37m-manylinux_2_17_x86_64.manylinux2014_x86_64.whl (236 kB)\n",
      "\u001b[2K     \u001b[38;2;114;156;31m━━━━━━━━━━━━━━━━━━━━━━━━━━━━━━━━━━━━━\u001b[0m \u001b[32m236.2/236.2 kB\u001b[0m \u001b[31m131.5 kB/s\u001b[0m eta \u001b[36m0:00:00\u001b[0m kB/s\u001b[0m eta \u001b[36m0:00:01\u001b[0m:01\u001b[0m\n",
      "\u001b[?25hCollecting multidict<7.0,>=4.5\n",
      "  Downloading multidict-6.0.4-cp37-cp37m-manylinux_2_17_x86_64.manylinux2014_x86_64.whl (94 kB)\n",
      "\u001b[2K     \u001b[38;2;114;156;31m━━━━━━━━━━━━━━━━━━━━━━━━━━━━━━━━━━━━━━━\u001b[0m \u001b[32m94.8/94.8 kB\u001b[0m \u001b[31m152.5 kB/s\u001b[0m eta \u001b[36m0:00:00\u001b[0m kB/s\u001b[0m eta \u001b[36m0:00:01\u001b[0m:01\u001b[0m\n",
      "\u001b[?25hRequirement already satisfied: typing-extensions>=3.6.5 in /home/shaheer/miniconda3/envs/pytorch/lib/python3.7/site-packages (from aiohttp<3.8.0,>=3.6.0->discord.py) (4.5.0)\n",
      "Collecting chardet<5.0,>=2.0\n",
      "  Using cached chardet-4.0.0-py2.py3-none-any.whl (178 kB)\n",
      "Requirement already satisfied: idna>=2.0 in /home/shaheer/miniconda3/envs/pytorch/lib/python3.7/site-packages (from yarl<2.0,>=1.0->aiohttp<3.8.0,>=3.6.0->discord.py) (3.4)\n",
      "Installing collected packages: multidict, chardet, async-timeout, yarl, aiohttp, discord.py\n",
      "Successfully installed aiohttp-3.7.4.post0 async-timeout-3.0.1 chardet-4.0.0 discord.py-1.7.3 multidict-6.0.4 yarl-1.9.2\n"
     ]
    }
   ],
   "source": [
    "!pip install discord.py\n"
   ]
  },
  {
   "cell_type": "code",
   "execution_count": null,
   "metadata": {},
   "outputs": [],
   "source": [
    "import discord\n",
    "import os\n",
    "import openai\n",
    "\n",
    "# Discord bot token\n",
    "TOKEN = \"your_discord_bot_token_here\"\n",
    "\n",
    "# OpenAI API credentials\n",
    "OPENAI_API_KEY = \"your_openai_api_key_here\"\n",
    "\n",
    "# Create a Discord client\n",
    "client = discord.Client()\n",
    "\n",
    "# OpenAI ChatGPT API configuration\n",
    "openai.ChatCompletion.create(\n",
    "    model=\"gpt-3.5-turbo\",\n",
    "    messages=[\n",
    "        {\"role\": \"system\", \"content\": \"You are a helpful assistant.\"},\n",
    "        {\"role\": \"user\", \"content\": \"\"}\n",
    "    ]\n",
    ")\n",
    "\n",
    "# Event: Bot is ready\n",
    "@client.event\n",
    "async def on_ready():\n",
    "    print(f\"We have logged in as {client.user.name} - {client.user.id}\")\n",
    "\n",
    "# Event: Message received\n",
    "@client.event\n",
    "async def on_message(message):\n",
    "    # Ignore messages from the bot itself\n",
    "    if message.author == client.user:\n",
    "        return\n",
    "\n",
    "    # Pass user message to ChatGPT for response\n",
    "    chat_response = openai.ChatCompletion.create(\n",
    "        model=\"gpt-3.5-turbo\",\n",
    "        messages=[\n",
    "            {\"role\": \"system\", \"content\": \"You are a helpful assistant.\"},\n",
    "            {\"role\": \"user\", \"content\": message.content}\n",
    "        ]\n",
    "    )\n",
    "\n",
    "    # Send the ChatGPT response to the Discord channel\n",
    "    await message.channel.send(chat_response.choices[0].message.content)\n",
    "\n",
    "# Run the Discord bot\n",
    "client.run(TOKEN)\n"
   ]
  }
 ],
 "metadata": {
  "kernelspec": {
   "display_name": "base",
   "language": "python",
   "name": "python3"
  },
  "language_info": {
   "codemirror_mode": {
    "name": "ipython",
    "version": 3
   },
   "file_extension": ".py",
   "mimetype": "text/x-python",
   "name": "python",
   "nbconvert_exporter": "python",
   "pygments_lexer": "ipython3",
   "version": "3.7.12"
  },
  "orig_nbformat": 4
 },
 "nbformat": 4,
 "nbformat_minor": 2
}
